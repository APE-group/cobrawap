{
 "cells": [
  {
   "cell_type": "markdown",
   "metadata": {},
   "source": [
    "# Running the analysis pipeline on the EBRAINS collab"
   ]
  },
  {
   "cell_type": "markdown",
   "metadata": {},
   "source": [
    "Before executing the pipeline, check whether all config file are set according to your needs."
   ]
  },
  {
   "cell_type": "markdown",
   "metadata": {},
   "source": [
    "### Build the environment\n",
    "When running this notebook for the first time in your jupyter hub session, first the dependencies of the pipeline scripts need to be installed. When this is not the first execution of the notebook, this step can be skipped."
   ]
  },
  {
   "cell_type": "code",
   "execution_count": 2,
   "metadata": {},
   "outputs": [
    {
     "name": "stderr",
     "output_type": "stream",
     "text": [
      "UsageError: unrecognized arguments: surpress output\n"
     ]
    }
   ],
   "source": [
    "%%capture  # surpress output\n",
    "%pip install snakemake==5.15.0\n",
    "%pip install jinja2==2.10.3\n",
    "%pip install pygments==2.4.2\n",
    "# %pip install pygraphviz==1.5  # can not be compiled on the system\n",
    "%pip install git+git://github.com/NeuralEnsemble/elephant.git \n",
    "%pip install git+https://github.com/NeuralEnsemble/python-neo.git\n",
    "%pip install nixio==1.5.0b4\n",
    "%pip install pillow==7.0.0\n",
    "%pip install matplotlib\n",
    "%pip install seaborn\n",
    "%pip install networkx\n",
    "%pip install shapely==1.6.4.post2\n",
    "%pip install scikit-learn==0.22.1\n",
    "%pip install scikit-image == 0.16.2\n",
    "%pip install pandas==1.0.1"
   ]
  },
  {
   "cell_type": "markdown",
   "metadata": {},
   "source": [
    "To update the kernel with the newly installed packages, the kernel needs to restartet."
   ]
  },
  {
   "cell_type": "markdown",
   "metadata": {},
   "source": [
    "### Navigate to the working directory"
   ]
  },
  {
   "cell_type": "code",
   "execution_count": null,
   "metadata": {},
   "outputs": [],
   "source": [
    "import os\n",
    "import sys\n",
    "os.chdir('./pipeline')\n",
    "sys.path.append('./')\n",
    "print(os.getcwd())"
   ]
  },
  {
   "cell_type": "markdown",
   "metadata": {},
   "source": [
    "### Set output location\n",
    "Here, you can specify where the output files of the pipelines should be stored.\n",
    "The suggested location would be your personal drive storage:\n",
    "\n",
    "`/mnt/uset/drive/My Library/Slow Wave Analysis Pipeline/results/`"
   ]
  },
  {
   "cell_type": "code",
   "execution_count": null,
   "metadata": {},
   "outputs": [],
   "source": [
    "def update_output_path(path):\n",
    "    with open('settings.py', 'r') as f:\n",
    "        prev_content = f.read()\n",
    "    with open('settings.py', 'w') as f:\n",
    "        f.write(\"output_path = '{}'\".format(path))\n",
    "    print(\"Previous Content:\\n\", prev_content, \"\\n\\n\",\n",
    "          \"New Content:\\n\", \"output_path = '{}'\".format(path))\n",
    "    return None\n",
    "    \n",
    "update_output_path('/mnt/user/drive/My Libraries/Slow Wave Analysis Pipeline/results/')"
   ]
  },
  {
   "cell_type": "markdown",
   "metadata": {},
   "source": [
    "### (optional) execute a specific stage"
   ]
  },
  {
   "cell_type": "raw",
   "metadata": {},
   "source": [
    "os.chdir('stage02_preprocessing')\n",
    "!snakemake --configfile='configs/config_IDIBAPS.yaml --cores=1"
   ]
  },
  {
   "cell_type": "markdown",
   "metadata": {},
   "source": [
    "### Execute the pipeline\n",
    "_Due to memory constraints this example run is downscaled to the first 10s of the recording (`T_STOP = 10` in stage01_data_entry/config.yaml). If the memory is exceeded it will cause a `bus error`._ \n",
    "\n",
    "You can see the results of the full dataset in the results folder in the collab drive. "
   ]
  },
  {
   "cell_type": "code",
   "execution_count": null,
   "metadata": {},
   "outputs": [],
   "source": [
    "print('Working directory: ', os.getcwd())\n",
    "!snakemake --cores=1"
   ]
  },
  {
   "cell_type": "markdown",
   "metadata": {},
   "source": [
    "Since the `pygraphviz` package can't be pip installed on the system the final creation of the reports will fail. However, all other results will still be created.\n",
    "\n",
    "You can navigate to your output location to inspect the results."
   ]
  },
  {
   "cell_type": "markdown",
   "metadata": {},
   "source": [
    "To run another dataset you can either edit the `PROFILE` in the pipeline config file or directly in the command line. \n",
    "\n",
    "`!snakemake --config PROFILE=LENS --cores=1`"
   ]
  }
 ],
 "metadata": {
  "kernelspec": {
   "display_name": "Python 3",
   "language": "python",
   "name": "python3"
  },
  "language_info": {
   "codemirror_mode": {
    "name": "ipython",
    "version": 3
   },
   "file_extension": ".py",
   "mimetype": "text/x-python",
   "name": "python",
   "nbconvert_exporter": "python",
   "pygments_lexer": "ipython3",
   "version": "3.7.3"
  }
 },
 "nbformat": 4,
 "nbformat_minor": 4
}
