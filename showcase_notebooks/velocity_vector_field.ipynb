{
 "cells": [
  {
   "cell_type": "code",
   "execution_count": 1,
   "metadata": {},
   "outputs": [],
   "source": [
    "import numpy as np\n",
    "import scipy as sc\n",
    "import neo\n",
    "import quantities as pq\n",
    "import sys\n",
    "import os\n",
    "from copy import copy"
   ]
  },
  {
   "cell_type": "code",
   "execution_count": 2,
   "metadata": {},
   "outputs": [],
   "source": [
    "sys.path.append('../pipeline/')\n",
    "from settings import output_path\n",
    "from utils import AnalogSignal2ImageSequence\n",
    "output_path = '/home/rgutzen/ProjectsData/wave_analysis_pipeline/LENS/'\n",
    "data_path = os.path.join(output_path, 'stage03_trigger_detection', 'trigger_times.nix')\n",
    "\n",
    "with neo.NixIO(data_path) as io:\n",
    "        block = io.read_block()\n",
    "        \n",
    "block.segments[0].analogsignals[0] = block.segments[0].analogsignals[0].time_slice(0*pq.s, 1*pq.s)\n",
    "block = AnalogSignal2ImageSequence(block)\n",
    "asig = block.segments[0].analogsignals[0]\n",
    "imseq = block.segments[0].imagesequences[0]"
   ]
  },
  {
   "cell_type": "code",
   "execution_count": 3,
   "metadata": {},
   "outputs": [
    {
     "data": {
      "text/plain": [
       "(25, 100, 100)"
      ]
     },
     "execution_count": 3,
     "metadata": {},
     "output_type": "execute_result"
    }
   ],
   "source": [
    "signal = imseq.as_array()\n",
    "signal.shape"
   ]
  },
  {
   "cell_type": "code",
   "execution_count": 4,
   "metadata": {},
   "outputs": [],
   "source": [
    "from stage04_wavefront_detection.scripts import optical_flow"
   ]
  },
  {
   "cell_type": "code",
   "execution_count": 5,
   "metadata": {},
   "outputs": [],
   "source": [
    "nan_channels = np.where(np.bitwise_not(np.isfinite(signal[0])))"
   ]
  },
  {
   "cell_type": "code",
   "execution_count": null,
   "metadata": {},
   "outputs": [
    {
     "name": "stderr",
     "output_type": "stream",
     "text": [
      "../pipeline/stage04_wavefront_detection/scripts/optical_flow.py:278: RuntimeWarning: Mean of empty slice\n",
      "  signal = signal / np.nanmean(abs(signal), axis=0)\n",
      "../pipeline/stage04_wavefront_detection/scripts/optical_flow.py:182: RuntimeWarning: divide by zero encountered in true_divide\n",
      "  smoothEChange = np.multiply(np.abs(smoothE - lastSmoothE), 1/np.abs(smoothE))\n"
     ]
    }
   ],
   "source": [
    "vx, vy, conv_steps = optical_flow.optical_flow(signal, nan_channels=nan_channels, alpha=0.5, beta=0.1, angle_flag=False)"
   ]
  },
  {
   "cell_type": "code",
   "execution_count": null,
   "metadata": {},
   "outputs": [],
   "source": []
  }
 ],
 "metadata": {
  "kernelspec": {
   "display_name": "Python 3",
   "language": "python",
   "name": "python3"
  },
  "language_info": {
   "codemirror_mode": {
    "name": "ipython",
    "version": 3
   },
   "file_extension": ".py",
   "mimetype": "text/x-python",
   "name": "python",
   "nbconvert_exporter": "python",
   "pygments_lexer": "ipython3",
   "version": "3.7.3"
  }
 },
 "nbformat": 4,
 "nbformat_minor": 4
}
