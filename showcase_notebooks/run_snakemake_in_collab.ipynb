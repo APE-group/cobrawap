{
 "cells": [
  {
   "cell_type": "markdown",
   "metadata": {},
   "source": [
    "# Running the analysis pipeline on the EBRAINS collab"
   ]
  },
  {
   "cell_type": "markdown",
   "metadata": {},
   "source": [
    "### Check config files"
   ]
  },
  {
   "cell_type": "markdown",
   "metadata": {},
   "source": [
    "Before executing the pipeline, check whether the config files are set according to your needs. For test runs, most default settings should suffice.\n",
    "\n",
    "In particular, the `DATA_SETS` parameter in _stage01_data_entry/configs/config_IDIBAPS.yaml_ and _.../config_LENS.yaml_ needs to contain the correct path to the datasets on you collab drive. The default is `/mnt/user/drive/My Libraries/My Library/datasets/...` but this might need to be changed, e.g., for folder names in different languages."
   ]
  },
  {
   "cell_type": "markdown",
   "metadata": {},
   "source": [
    "### Build the environment\n",
    "When running this notebook for the first time in your jupyter hub session, first the dependencies of the pipeline scripts need to be installed. When this is not the first execution of the notebook, this step can be skipped."
   ]
  },
  {
   "cell_type": "code",
   "execution_count": 2,
   "metadata": {},
   "outputs": [],
   "source": [
    "%%capture\n",
    "%pip install snakemake==5.15.0\n",
    "%pip install jinja2==2.10.3\n",
    "%pip install pygments==2.4.2\n",
    "# %pip install pygraphviz==1.5  # can not be compiled on the system\n",
    "%pip install git+https://github.com/NeuralEnsemble/elephant.git \n",
    "%pip install git+https://github.com/NeuralEnsemble/python-neo.git\n",
    "%pip install nixio==1.5.0b4\n",
    "%pip install pillow==7.0.0\n",
    "%pip install matplotlib\n",
    "%pip install seaborn\n",
    "%pip install networkx\n",
    "%pip install shapely==1.6.4.post2\n",
    "%pip install scikit-learn==0.22.1\n",
    "%pip install scikit-image==0.16.2\n",
    "%pip install pandas==1.0.1"
   ]
  },
  {
   "cell_type": "markdown",
   "metadata": {},
   "source": [
    "To update the kernel with the newly installed packages, __the kernel needs to be restarted (Kernel->Restart)__."
   ]
  },
  {
   "cell_type": "markdown",
   "metadata": {},
   "source": [
    "### Navigate to the working directory"
   ]
  },
  {
   "cell_type": "code",
   "execution_count": null,
   "metadata": {},
   "outputs": [],
   "source": [
    "import os\n",
    "import sys\n",
    "os.chdir('./pipeline')\n",
    "sys.path.append('./')\n",
    "print(os.getcwd())"
   ]
  },
  {
   "cell_type": "markdown",
   "metadata": {},
   "source": [
    "### Set output location\n",
    "Here, you can specify where the output files of the pipelines should be stored.\n",
    "A suggested location would be your personal drive storage, e.g,:\n",
    "\n",
    "`/mnt/user/drive/My Libraries/My Library/results/`"
   ]
  },
  {
   "cell_type": "code",
   "execution_count": null,
   "metadata": {},
   "outputs": [],
   "source": [
    "def update_output_path(path):\n",
    "    with open('settings.py', 'r') as f:\n",
    "        prev_content = f.read()\n",
    "    with open('settings.py', 'w') as f:\n",
    "        f.write(\"output_path = '{}'\".format(path))\n",
    "    print(\"Previous Content:\\n\", prev_content, \"\\n\\n\",\n",
    "          \"New Content:\\n\", \"output_path = '{}'\".format(path))\n",
    "    return None\n",
    "    \n",
    "update_output_path('/mnt/user/drive/My Libraries/My Library/results/')"
   ]
  },
  {
   "cell_type": "markdown",
   "metadata": {},
   "source": [
    "### Execute the pipeline\n",
    "The pipeline is run by simply calling the `snakemake` command as in the cell below. When called in the top-level, folder the whole pipeline with all stages is executed. In order to just run a single stage, you can navigate to that subfolder (e.g. `os.chdir('stage03_trigger_detection'`) and call the `snakemake` command there, but with also explicitly specifying the configfile (`--configfile='configs/config_IDIBAPS.yaml`).\n",
    "\n",
    "_Due to memory constraints this example run is downscaled to the first 10s of the recording (`T_STOP = 10` in stage01_data_entry/config.yaml). If the memory is exceeded it will cause a `bus error`._ \n",
    "You can look at the results of the full dataset in the results folder in the collab drive. "
   ]
  },
  {
   "cell_type": "code",
   "execution_count": null,
   "metadata": {},
   "outputs": [],
   "source": [
    "print('Working directory: ', os.getcwd())\n",
    "!snakemake --cores=1"
   ]
  },
  {
   "cell_type": "markdown",
   "metadata": {},
   "source": [
    "To run another dataset you can either edit the `PROFILE` parameter in the pipeline config file or directly in the command line (`!snakemake --config PROFILE=LENS --cores=1`)."
   ]
  },
  {
   "cell_type": "markdown",
   "metadata": {},
   "source": [
    "### Investigate Results"
   ]
  },
  {
   "cell_type": "markdown",
   "metadata": {},
   "source": [
    "You can navigate to your output location which you set above to inspect the results, using either the Jupyter Hub or in collab drive interface.\n",
    "\n",
    "The precomputed results of the full datasets are stored in the collab drive under _results/_."
   ]
  },
  {
   "cell_type": "markdown",
   "metadata": {},
   "source": [
    "To run another dataset you can either edit the `PROFILE` parameter in the pipeline config file or directly in the command line (`!snakemake --config PROFILE=LENS --cores=1`)."
   ]
  },
  {
   "cell_type": "markdown",
   "metadata": {},
   "source": [
    "### Provide feedback, report bugs"
   ]
  },
  {
   "cell_type": "markdown",
   "metadata": {},
   "source": [
    "If you encounter any difficulties please report them on the project's GitHub site, to help us further improving the analysis pipeline: https://github.com/INM-6/wavescalephant/issues"
   ]
  }
 ],
 "metadata": {
  "kernelspec": {
   "display_name": "Python 3",
   "language": "python",
   "name": "python3"
  },
  "language_info": {
   "codemirror_mode": {
    "name": "ipython",
    "version": 3
   },
   "file_extension": ".py",
   "mimetype": "text/x-python",
   "name": "python",
   "nbconvert_exporter": "python",
   "pygments_lexer": "ipython3",
   "version": "3.7.3"
  }
 },
 "nbformat": 4,
 "nbformat_minor": 4
}
