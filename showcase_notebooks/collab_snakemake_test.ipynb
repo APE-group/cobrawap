{
 "cells": [
  {
   "cell_type": "code",
   "execution_count": 1,
   "metadata": {},
   "outputs": [
    {
     "name": "stdout",
     "output_type": "stream",
     "text": [
      "/mnt/user/drive/Shared with groups/Slow Wave Analysis Pipeline/pipeline/pipeline\n"
     ]
    }
   ],
   "source": [
    "import os\n",
    "import sys\n",
    "os.chdir('../pipeline')\n",
    "sys.path.append('./')\n",
    "print(os.getcwd())"
   ]
  },
  {
   "cell_type": "code",
   "execution_count": 2,
   "metadata": {},
   "outputs": [
    {
     "name": "stdout",
     "output_type": "stream",
     "text": [
      "Note: you may need to restart the kernel to use updated packages.\n"
     ]
    }
   ],
   "source": [
    "%pip install -r requirements.txt"
   ]
  },
  {
   "cell_type": "code",
   "execution_count": 10,
   "metadata": {},
   "outputs": [
    {
     "name": "stdout",
     "output_type": "stream",
     "text": [
      "Requirement already satisfied: snakemake==5.9.1 in /opt/app-root/lib/python3.6/site-packages (5.9.1)\n",
      "Requirement already satisfied: docutils in /opt/app-root/lib/python3.6/site-packages (from snakemake==5.9.1) (0.15.2)\n",
      "Requirement already satisfied: gitpython in /opt/app-root/lib/python3.6/site-packages (from snakemake==5.9.1) (3.0.5)\n",
      "Requirement already satisfied: pyyaml in /opt/app-root/lib/python3.6/site-packages (from snakemake==5.9.1) (5.1.2)\n",
      "Requirement already satisfied: psutil in /opt/app-root/lib/python3.6/site-packages (from snakemake==5.9.1) (5.6.7)\n",
      "Requirement already satisfied: jsonschema in /opt/app-root/lib/python3.6/site-packages (from snakemake==5.9.1) (3.2.0)\n",
      "Requirement already satisfied: requests in /opt/app-root/lib/python3.6/site-packages (from snakemake==5.9.1) (2.22.0)\n",
      "Requirement already satisfied: wrapt in /opt/app-root/lib/python3.6/site-packages (from snakemake==5.9.1) (1.11.2)\n",
      "Requirement already satisfied: configargparse in /opt/app-root/lib/python3.6/site-packages (from snakemake==5.9.1) (1.0)\n",
      "Requirement already satisfied: ratelimiter in /opt/app-root/lib/python3.6/site-packages (from snakemake==5.9.1) (1.2.0.post0)\n",
      "Requirement already satisfied: datrie in /opt/app-root/lib/python3.6/site-packages (from snakemake==5.9.1) (0.8)\n",
      "Requirement already satisfied: appdirs in /opt/app-root/lib/python3.6/site-packages (from snakemake==5.9.1) (1.4.3)\n",
      "Requirement already satisfied: gitdb2>=2.0.0 in /opt/app-root/lib/python3.6/site-packages (from gitpython->snakemake==5.9.1) (2.0.6)\n",
      "Requirement already satisfied: importlib-metadata; python_version < \"3.8\" in /opt/app-root/lib/python3.6/site-packages (from jsonschema->snakemake==5.9.1) (0.23)\n",
      "Requirement already satisfied: six>=1.11.0 in /opt/app-root/lib/python3.6/site-packages (from jsonschema->snakemake==5.9.1) (1.13.0)\n",
      "Requirement already satisfied: attrs>=17.4.0 in /opt/app-root/lib/python3.6/site-packages (from jsonschema->snakemake==5.9.1) (19.3.0)\n",
      "Requirement already satisfied: setuptools in /opt/app-root/lib/python3.6/site-packages (from jsonschema->snakemake==5.9.1) (42.0.1)\n",
      "Requirement already satisfied: pyrsistent>=0.14.0 in /opt/app-root/lib/python3.6/site-packages (from jsonschema->snakemake==5.9.1) (0.15.6)\n",
      "Requirement already satisfied: urllib3!=1.25.0,!=1.25.1,<1.26,>=1.21.1 in /opt/app-root/lib/python3.6/site-packages (from requests->snakemake==5.9.1) (1.25.7)\n",
      "Requirement already satisfied: chardet<3.1.0,>=3.0.2 in /opt/app-root/lib/python3.6/site-packages (from requests->snakemake==5.9.1) (3.0.4)\n",
      "Requirement already satisfied: idna<2.9,>=2.5 in /opt/app-root/lib/python3.6/site-packages (from requests->snakemake==5.9.1) (2.8)\n",
      "Requirement already satisfied: certifi>=2017.4.17 in /opt/app-root/lib/python3.6/site-packages (from requests->snakemake==5.9.1) (2019.9.11)\n",
      "Requirement already satisfied: smmap2>=2.0.0 in /opt/app-root/lib/python3.6/site-packages (from gitdb2>=2.0.0->gitpython->snakemake==5.9.1) (2.0.5)\n",
      "Requirement already satisfied: zipp>=0.5 in /opt/app-root/lib/python3.6/site-packages (from importlib-metadata; python_version < \"3.8\"->jsonschema->snakemake==5.9.1) (0.6.0)\n",
      "Requirement already satisfied: more-itertools in /opt/app-root/lib/python3.6/site-packages (from zipp>=0.5->importlib-metadata; python_version < \"3.8\"->jsonschema->snakemake==5.9.1) (7.2.0)\n",
      "Note: you may need to restart the kernel to use updated packages.\n",
      "Requirement already satisfied: jinja2==2.10.3 in /opt/app-root/lib/python3.6/site-packages (2.10.3)\n",
      "Requirement already satisfied: MarkupSafe>=0.23 in /opt/app-root/lib/python3.6/site-packages (from jinja2==2.10.3) (1.1.1)\n",
      "Note: you may need to restart the kernel to use updated packages.\n",
      "Requirement already satisfied: pygments==2.4.2 in /opt/app-root/lib/python3.6/site-packages (2.4.2)\n",
      "Note: you may need to restart the kernel to use updated packages.\n",
      "Collecting pygraphviz==1.5\n",
      "\u001b[?25l  Downloading https://files.pythonhosted.org/packages/7e/b1/d6d849ddaf6f11036f9980d433f383d4c13d1ebcfc3cd09bc845bda7e433/pygraphviz-1.5.zip (117kB)\n",
      "\u001b[K     |████████████████████████████████| 122kB 3.0MB/s eta 0:00:01\n",
      "\u001b[?25hBuilding wheels for collected packages: pygraphviz\n",
      "  Building wheel for pygraphviz (setup.py) ... \u001b[?25lerror\n",
      "\u001b[31m  ERROR: Command errored out with exit status 1:\n",
      "   command: /opt/app-root/bin/python3 -u -c 'import sys, setuptools, tokenize; sys.argv[0] = '\"'\"'/tmp/pip-install-h6kofgkn/pygraphviz/setup.py'\"'\"'; __file__='\"'\"'/tmp/pip-install-h6kofgkn/pygraphviz/setup.py'\"'\"';f=getattr(tokenize, '\"'\"'open'\"'\"', open)(__file__);code=f.read().replace('\"'\"'\\r\\n'\"'\"', '\"'\"'\\n'\"'\"');f.close();exec(compile(code, __file__, '\"'\"'exec'\"'\"'))' bdist_wheel -d /tmp/pip-wheel-yin5kemj --python-tag cp36\n",
      "       cwd: /tmp/pip-install-h6kofgkn/pygraphviz/\n",
      "  Complete output (55 lines):\n",
      "  running bdist_wheel\n",
      "  running build\n",
      "  running build_py\n",
      "  creating build\n",
      "  creating build/lib.linux-x86_64-3.6\n",
      "  creating build/lib.linux-x86_64-3.6/pygraphviz\n",
      "  copying pygraphviz/version.py -> build/lib.linux-x86_64-3.6/pygraphviz\n",
      "  copying pygraphviz/__init__.py -> build/lib.linux-x86_64-3.6/pygraphviz\n",
      "  copying pygraphviz/graphviz.py -> build/lib.linux-x86_64-3.6/pygraphviz\n",
      "  copying pygraphviz/release.py -> build/lib.linux-x86_64-3.6/pygraphviz\n",
      "  copying pygraphviz/agraph.py -> build/lib.linux-x86_64-3.6/pygraphviz\n",
      "  creating build/lib.linux-x86_64-3.6/pygraphviz/tests\n",
      "  copying pygraphviz/tests/test_edge_attributes.py -> build/lib.linux-x86_64-3.6/pygraphviz/tests\n",
      "  copying pygraphviz/tests/test_clear.py -> build/lib.linux-x86_64-3.6/pygraphviz/tests\n",
      "  copying pygraphviz/tests/__init__.py -> build/lib.linux-x86_64-3.6/pygraphviz/tests\n",
      "  copying pygraphviz/tests/test_html.py -> build/lib.linux-x86_64-3.6/pygraphviz/tests\n",
      "  copying pygraphviz/tests/test_attributes.py -> build/lib.linux-x86_64-3.6/pygraphviz/tests\n",
      "  copying pygraphviz/tests/test_graph.py -> build/lib.linux-x86_64-3.6/pygraphviz/tests\n",
      "  copying pygraphviz/tests/test_layout.py -> build/lib.linux-x86_64-3.6/pygraphviz/tests\n",
      "  copying pygraphviz/tests/test_string.py -> build/lib.linux-x86_64-3.6/pygraphviz/tests\n",
      "  copying pygraphviz/tests/test_attribute_defaults.py -> build/lib.linux-x86_64-3.6/pygraphviz/tests\n",
      "  copying pygraphviz/tests/test_unicode.py -> build/lib.linux-x86_64-3.6/pygraphviz/tests\n",
      "  copying pygraphviz/tests/test.py -> build/lib.linux-x86_64-3.6/pygraphviz/tests\n",
      "  copying pygraphviz/tests/test_node_attributes.py -> build/lib.linux-x86_64-3.6/pygraphviz/tests\n",
      "  copying pygraphviz/tests/test_subgraph.py -> build/lib.linux-x86_64-3.6/pygraphviz/tests\n",
      "  copying pygraphviz/tests/test_readwrite.py -> build/lib.linux-x86_64-3.6/pygraphviz/tests\n",
      "  copying pygraphviz/tests/test_drawing.py -> build/lib.linux-x86_64-3.6/pygraphviz/tests\n",
      "  copying pygraphviz/tests/test_setup.py -> build/lib.linux-x86_64-3.6/pygraphviz/tests\n",
      "  running egg_info\n",
      "  writing pygraphviz.egg-info/PKG-INFO\n",
      "  writing dependency_links to pygraphviz.egg-info/dependency_links.txt\n",
      "  writing top-level names to pygraphviz.egg-info/top_level.txt\n",
      "  reading manifest file 'pygraphviz.egg-info/SOURCES.txt'\n",
      "  reading manifest template 'MANIFEST.in'\n",
      "  warning: no files found matching '*.png' under directory 'doc'\n",
      "  warning: no files found matching '*.html' under directory 'doc'\n",
      "  warning: no files found matching '*.txt' under directory 'doc'\n",
      "  warning: no files found matching '*.css' under directory 'doc'\n",
      "  warning: no previously-included files matching '*~' found anywhere in distribution\n",
      "  warning: no previously-included files matching '*.pyc' found anywhere in distribution\n",
      "  warning: no previously-included files matching '.svn' found anywhere in distribution\n",
      "  no previously-included directories found matching 'doc/build'\n",
      "  writing manifest file 'pygraphviz.egg-info/SOURCES.txt'\n",
      "  copying pygraphviz/graphviz.i -> build/lib.linux-x86_64-3.6/pygraphviz\n",
      "  copying pygraphviz/graphviz_wrap.c -> build/lib.linux-x86_64-3.6/pygraphviz\n",
      "  running build_ext\n",
      "  building 'pygraphviz._graphviz' extension\n",
      "  creating build/temp.linux-x86_64-3.6\n",
      "  creating build/temp.linux-x86_64-3.6/pygraphviz\n",
      "  gcc -pthread -Wno-unused-result -Wsign-compare -DDYNAMIC_ANNOTATIONS_ENABLED=1 -DNDEBUG -O2 -g -pipe -Wall -Wp,-D_FORTIFY_SOURCE=2 -fexceptions -fstack-protector-strong --param=ssp-buffer-size=4 -grecord-gcc-switches -m64 -mtune=generic -D_GNU_SOURCE -fPIC -fwrapv -I/opt/rh/rh-python36/root/usr/include -O2 -g -pipe -Wall -Wp,-D_FORTIFY_SOURCE=2 -fexceptions -fstack-protector-strong --param=ssp-buffer-size=4 -grecord-gcc-switches -m64 -mtune=generic -D_GNU_SOURCE -fPIC -fwrapv -fPIC -I/opt/rh/rh-python36/root/usr/include/python3.6m -c pygraphviz/graphviz_wrap.c -o build/temp.linux-x86_64-3.6/pygraphviz/graphviz_wrap.o\n",
      "  pygraphviz/graphviz_wrap.c:2987:29: fatal error: graphviz/cgraph.h: No such file or directory\n",
      "   #include \"graphviz/cgraph.h\"\n",
      "                               ^\n",
      "  compilation terminated.\n",
      "  error: command 'gcc' failed with exit status 1\n",
      "  ----------------------------------------\u001b[0m\n",
      "\u001b[31m  ERROR: Failed building wheel for pygraphviz\u001b[0m\n",
      "\u001b[?25h  Running setup.py clean for pygraphviz\n",
      "Failed to build pygraphviz\n",
      "Installing collected packages: pygraphviz\n",
      "    Running setup.py install for pygraphviz ... \u001b[?25lerror\n",
      "\u001b[31m    ERROR: Command errored out with exit status 1:\n",
      "     command: /opt/app-root/bin/python3 -u -c 'import sys, setuptools, tokenize; sys.argv[0] = '\"'\"'/tmp/pip-install-h6kofgkn/pygraphviz/setup.py'\"'\"'; __file__='\"'\"'/tmp/pip-install-h6kofgkn/pygraphviz/setup.py'\"'\"';f=getattr(tokenize, '\"'\"'open'\"'\"', open)(__file__);code=f.read().replace('\"'\"'\\r\\n'\"'\"', '\"'\"'\\n'\"'\"');f.close();exec(compile(code, __file__, '\"'\"'exec'\"'\"'))' install --record /tmp/pip-record-joomsx_1/install-record.txt --single-version-externally-managed --compile --install-headers /opt/app-root/include/site/python3.6/pygraphviz\n",
      "         cwd: /tmp/pip-install-h6kofgkn/pygraphviz/\n",
      "    Complete output (33 lines):\n",
      "    running install\n",
      "    Trying dpkg\n",
      "    Failed to find dpkg\n",
      "    Trying pkg-config\n",
      "    Package libcgraph was not found in the pkg-config search path.\n",
      "    Perhaps you should add the directory containing `libcgraph.pc'\n",
      "    to the PKG_CONFIG_PATH environment variable\n",
      "    No package 'libcgraph' found\n",
      "    Traceback (most recent call last):\n",
      "      File \"<string>\", line 1, in <module>\n",
      "      File \"/tmp/pip-install-h6kofgkn/pygraphviz/setup.py\", line 93, in <module>\n",
      "        tests_require=['nose>=1.3.7', 'doctest-ignore-unicode>=0.1.2', 'mock>=2.0.0'],\n",
      "      File \"/opt/app-root/lib/python3.6/site-packages/setuptools/__init__.py\", line 145, in setup\n",
      "        return distutils.core.setup(**attrs)\n",
      "      File \"/opt/rh/rh-python36/root/usr/lib64/python3.6/distutils/core.py\", line 148, in setup\n",
      "        dist.run_commands()\n",
      "      File \"/opt/rh/rh-python36/root/usr/lib64/python3.6/distutils/dist.py\", line 955, in run_commands\n",
      "        self.run_command(cmd)\n",
      "      File \"/opt/rh/rh-python36/root/usr/lib64/python3.6/distutils/dist.py\", line 974, in run_command\n",
      "        cmd_obj.run()\n",
      "      File \"/tmp/pip-install-h6kofgkn/pygraphviz/setup_commands.py\", line 44, in modified_run\n",
      "        self.include_path, self.library_path = get_graphviz_dirs()\n",
      "      File \"/tmp/pip-install-h6kofgkn/pygraphviz/setup_extra.py\", line 162, in get_graphviz_dirs\n",
      "        include_dirs, library_dirs = _try_configure(include_dirs, library_dirs, _pkg_config)\n",
      "      File \"/tmp/pip-install-h6kofgkn/pygraphviz/setup_extra.py\", line 117, in _try_configure\n",
      "        i, l = try_function()\n",
      "      File \"/tmp/pip-install-h6kofgkn/pygraphviz/setup_extra.py\", line 72, in _pkg_config\n",
      "        output = S.check_output(['pkg-config', '--libs-only-L', 'libcgraph'])\n",
      "      File \"/opt/rh/rh-python36/root/usr/lib64/python3.6/subprocess.py\", line 336, in check_output\n",
      "        **kwargs).stdout\n",
      "      File \"/opt/rh/rh-python36/root/usr/lib64/python3.6/subprocess.py\", line 418, in run\n",
      "        output=stdout, stderr=stderr)\n",
      "    subprocess.CalledProcessError: Command '['pkg-config', '--libs-only-L', 'libcgraph']' returned non-zero exit status 1.\n",
      "    ----------------------------------------\u001b[0m\n",
      "\u001b[31mERROR: Command errored out with exit status 1: /opt/app-root/bin/python3 -u -c 'import sys, setuptools, tokenize; sys.argv[0] = '\"'\"'/tmp/pip-install-h6kofgkn/pygraphviz/setup.py'\"'\"'; __file__='\"'\"'/tmp/pip-install-h6kofgkn/pygraphviz/setup.py'\"'\"';f=getattr(tokenize, '\"'\"'open'\"'\"', open)(__file__);code=f.read().replace('\"'\"'\\r\\n'\"'\"', '\"'\"'\\n'\"'\"');f.close();exec(compile(code, __file__, '\"'\"'exec'\"'\"'))' install --record /tmp/pip-record-joomsx_1/install-record.txt --single-version-externally-managed --compile --install-headers /opt/app-root/include/site/python3.6/pygraphviz Check the logs for full command output.\u001b[0m\n",
      "\u001b[?25hNote: you may need to restart the kernel to use updated packages.\n",
      "Collecting git+git://github.com/NeuralEnsemble/elephant.git\n",
      "  Cloning git://github.com/NeuralEnsemble/elephant.git to /tmp/pip-req-build-_cx6kni9\n",
      "  Running command git clone -q git://github.com/NeuralEnsemble/elephant.git /tmp/pip-req-build-_cx6kni9\n",
      "Requirement already satisfied (use --upgrade to upgrade): elephant==0.6.4 from git+git://github.com/NeuralEnsemble/elephant.git in /opt/app-root/lib/python3.6/site-packages\n",
      "Requirement already satisfied: neo<0.9.0,>=0.8.0 in /opt/app-root/lib/python3.6/site-packages (from elephant==0.6.4) (0.8.0)\n",
      "Requirement already satisfied: numpy>=1.10.1 in /opt/app-root/lib/python3.6/site-packages (from elephant==0.6.4) (1.17.4)\n",
      "Requirement already satisfied: quantities>=0.12.1 in /opt/app-root/lib/python3.6/site-packages (from elephant==0.6.4) (0.12.3)\n",
      "Requirement already satisfied: scipy>=0.19.0 in /opt/app-root/lib/python3.6/site-packages (from elephant==0.6.4) (1.3.2)\n",
      "Requirement already satisfied: six>=1.10.0 in /opt/app-root/lib/python3.6/site-packages (from elephant==0.6.4) (1.13.0)\n",
      "Requirement already satisfied: tqdm in /opt/app-root/lib/python3.6/site-packages (from elephant==0.6.4) (4.39.0)\n",
      "Building wheels for collected packages: elephant\n",
      "  Building wheel for elephant (setup.py) ... \u001b[?25ldone\n",
      "\u001b[?25h  Created wheel for elephant: filename=elephant-0.6.4-cp36-none-any.whl size=708797 sha256=beaa6eb34be1ba27286094703acd60a3d4aaf7a5b06c9db03ccd864b8ca4e583\n",
      "  Stored in directory: /tmp/pip-ephem-wheel-cache-fkzuuvyk/wheels/85/49/3e/51528fc130729b9e85ba3007e4332c0b990ab7efd687c12e49\n",
      "Successfully built elephant\n",
      "Note: you may need to restart the kernel to use updated packages.\n",
      "Collecting git+https://github.com/G-Node/python-neo.git@fix/nixio-read-channel-names\n",
      "  Cloning https://github.com/G-Node/python-neo.git (to revision fix/nixio-read-channel-names) to /tmp/pip-req-build-d2j9qtr6\n",
      "  Running command git clone -q https://github.com/G-Node/python-neo.git /tmp/pip-req-build-d2j9qtr6\n",
      "  Running command git checkout -b fix/nixio-read-channel-names --track origin/fix/nixio-read-channel-names\n",
      "  Switched to a new branch 'fix/nixio-read-channel-names'\n",
      "  Branch fix/nixio-read-channel-names set up to track remote branch fix/nixio-read-channel-names from origin.\n",
      "Requirement already satisfied: numpy!=1.16.0,>=1.10.0 in /opt/app-root/lib/python3.6/site-packages (from neo==0.9.0.dev0) (1.17.4)\n",
      "Requirement already satisfied: quantities>=0.12.1 in /opt/app-root/lib/python3.6/site-packages (from neo==0.9.0.dev0) (0.12.3)\n",
      "Building wheels for collected packages: neo\n",
      "  Building wheel for neo (setup.py) ... \u001b[?25ldone\n",
      "\u001b[?25h  Created wheel for neo: filename=neo-0.9.0.dev0-cp36-none-any.whl size=549208 sha256=c116a866f5ef2abe3ade9fb65933a5c28d027d2c738ee3be9fa5edd348525164\n",
      "  Stored in directory: /tmp/pip-ephem-wheel-cache-85axjlb1/wheels/90/87/8d/4ca5520cc0615f39283524309c9bce340b308531bf730e534f\n",
      "Successfully built neo\n",
      "\u001b[31mERROR: elephant 0.6.4 has requirement neo<0.9.0,>=0.8.0, but you'll have neo 0.9.0.dev0 which is incompatible.\u001b[0m\n",
      "Installing collected packages: neo\n",
      "  Found existing installation: neo 0.8.0\n",
      "    Uninstalling neo-0.8.0:\n",
      "      Successfully uninstalled neo-0.8.0\n",
      "Successfully installed neo-0.9.0.dev0\n",
      "Note: you may need to restart the kernel to use updated packages.\n",
      "Requirement already satisfied: nixio==1.5.0b4 in /opt/app-root/lib/python3.6/site-packages (1.5.0b4)\n",
      "Requirement already satisfied: numpy in /opt/app-root/lib/python3.6/site-packages (from nixio==1.5.0b4) (1.17.4)\n",
      "Requirement already satisfied: h5py in /opt/app-root/lib/python3.6/site-packages (from nixio==1.5.0b4) (2.10.0)\n",
      "Requirement already satisfied: six in /opt/app-root/lib/python3.6/site-packages (from nixio==1.5.0b4) (1.13.0)\n",
      "Note: you may need to restart the kernel to use updated packages.\n",
      "Requirement already satisfied: pillow==6.2.1 in /opt/app-root/lib/python3.6/site-packages (6.2.1)\n",
      "Note: you may need to restart the kernel to use updated packages.\n",
      "Requirement already satisfied: matplotlib in /opt/app-root/lib/python3.6/site-packages (3.1.1)\n",
      "Requirement already satisfied: pyparsing!=2.0.4,!=2.1.2,!=2.1.6,>=2.0.1 in /opt/app-root/lib/python3.6/site-packages (from matplotlib) (2.4.5)\n",
      "Requirement already satisfied: kiwisolver>=1.0.1 in /opt/app-root/lib/python3.6/site-packages (from matplotlib) (1.1.0)\n",
      "Requirement already satisfied: numpy>=1.11 in /opt/app-root/lib/python3.6/site-packages (from matplotlib) (1.17.4)\n",
      "Requirement already satisfied: cycler>=0.10 in /opt/app-root/lib/python3.6/site-packages (from matplotlib) (0.10.0)\n",
      "Requirement already satisfied: python-dateutil>=2.1 in /opt/app-root/lib/python3.6/site-packages (from matplotlib) (2.8.1)\n",
      "Requirement already satisfied: setuptools in /opt/app-root/lib/python3.6/site-packages (from kiwisolver>=1.0.1->matplotlib) (42.0.1)\n",
      "Requirement already satisfied: six in /opt/app-root/lib/python3.6/site-packages (from cycler>=0.10->matplotlib) (1.13.0)\n",
      "Note: you may need to restart the kernel to use updated packages.\n",
      "Requirement already satisfied: seaborn in /opt/app-root/lib/python3.6/site-packages (0.9.0)\n",
      "Requirement already satisfied: numpy>=1.9.3 in /opt/app-root/lib/python3.6/site-packages (from seaborn) (1.17.4)\n",
      "Requirement already satisfied: pandas>=0.15.2 in /opt/app-root/lib/python3.6/site-packages (from seaborn) (0.25.3)\n",
      "Requirement already satisfied: matplotlib>=1.4.3 in /opt/app-root/lib/python3.6/site-packages (from seaborn) (3.1.1)\n",
      "Requirement already satisfied: scipy>=0.14.0 in /opt/app-root/lib/python3.6/site-packages (from seaborn) (1.3.2)\n",
      "Requirement already satisfied: python-dateutil>=2.6.1 in /opt/app-root/lib/python3.6/site-packages (from pandas>=0.15.2->seaborn) (2.8.1)\n",
      "Requirement already satisfied: pytz>=2017.2 in /opt/app-root/lib/python3.6/site-packages (from pandas>=0.15.2->seaborn) (2019.3)\n",
      "Requirement already satisfied: kiwisolver>=1.0.1 in /opt/app-root/lib/python3.6/site-packages (from matplotlib>=1.4.3->seaborn) (1.1.0)\n",
      "Requirement already satisfied: pyparsing!=2.0.4,!=2.1.2,!=2.1.6,>=2.0.1 in /opt/app-root/lib/python3.6/site-packages (from matplotlib>=1.4.3->seaborn) (2.4.5)\n",
      "Requirement already satisfied: cycler>=0.10 in /opt/app-root/lib/python3.6/site-packages (from matplotlib>=1.4.3->seaborn) (0.10.0)\n",
      "Requirement already satisfied: six>=1.5 in /opt/app-root/lib/python3.6/site-packages (from python-dateutil>=2.6.1->pandas>=0.15.2->seaborn) (1.13.0)\n",
      "Requirement already satisfied: setuptools in /opt/app-root/lib/python3.6/site-packages (from kiwisolver>=1.0.1->matplotlib>=1.4.3->seaborn) (42.0.1)\n",
      "Note: you may need to restart the kernel to use updated packages.\n",
      "Requirement already satisfied: networkx in /opt/app-root/lib/python3.6/site-packages (2.4)\n",
      "Requirement already satisfied: decorator>=4.3.0 in /opt/app-root/lib/python3.6/site-packages (from networkx) (4.4.1)\n",
      "Note: you may need to restart the kernel to use updated packages.\n",
      "Requirement already satisfied: shapely==1.6.4.post2 in /opt/app-root/lib/python3.6/site-packages (1.6.4.post2)\n",
      "Note: you may need to restart the kernel to use updated packages.\n"
     ]
    }
   ],
   "source": [
    "%pip install snakemake==5.9.1\n",
    "%pip install jinja2==2.10.3\n",
    "%pip install pygments==2.4.2\n",
    "%pip install pygraphviz==1.5\n",
    "%pip install git+git://github.com/NeuralEnsemble/elephant.git #(pip install from git repo branch)\n",
    "%pip install git+https://github.com/G-Node/python-neo.git@fix/nixio-read-channel-names\n",
    "%pip install nixio==1.5.0b4\n",
    "%pip install pillow==6.2.1\n",
    "%pip install matplotlib\n",
    "%pip install seaborn\n",
    "%pip install networkx\n",
    "%pip install shapely==1.6.4.post2"
   ]
  },
  {
   "cell_type": "code",
   "execution_count": 6,
   "metadata": {},
   "outputs": [
    {
     "name": "stdout",
     "output_type": "stream",
     "text": [
      "Previous Content:\n",
      " output_path = '/mnt/user/drive/My Libraries/Slow Wave Analysis Pipeline/results/IDIBAPS' \n",
      "\n",
      " New Content:\n",
      " output_path = '/mnt/user/drive/Shared with groups/Slow Wave Analysis Pipeline/results/IDIBAPS'\n"
     ]
    }
   ],
   "source": [
    "def update_output_path(path):\n",
    "    with open('settings.py', 'r') as f:\n",
    "        prev_content = f.read()\n",
    "    with open('settings.py', 'w') as f:\n",
    "        f.write(\"output_path = '{}'\".format(path))\n",
    "    with open('settings.py', 'r') as f:\n",
    "        new_content = f.read()\n",
    "    print(\"Previous Content:\\n\", prev_content,\n",
    "          \"\\n\\n\",\n",
    "          \"New Content:\\n\", new_content)\n",
    "    return None\n",
    "    \n",
    "update_output_path(os.path.join('/mnt/user/drive/Shared with groups/Slow Wave Analysis Pipeline/', 'results', 'IDIBAPS'))\n",
    "#     '/mnt/user/drive/My Libraries/wave_analysis_pipeline/LENS_collab/')"
   ]
  },
  {
   "cell_type": "code",
   "execution_count": 5,
   "metadata": {},
   "outputs": [],
   "source": [
    "from IPython.core.magic import register_line_magic\n",
    "from subprocess import Popen, PIPE\n",
    "\n",
    "@register_line_magic\n",
    "def snakemake(args):\n",
    "    args = ['snakemake'] + args.split()\n",
    "    \n",
    "    with Popen(args, stdout=PIPE, stderr=PIPE) as process:\n",
    "        # Read stdout character by character, as it includes real-time progress updates\n",
    "        for c in iter(lambda: process.stdout.read(1), b''):\n",
    "            sys.stdout.write(c.decode(sys.stdout.encoding))\n",
    "        # Read stderr line by line, because real-time does not matter\n",
    "        for line in iter(process.stderr.readline, b''):\n",
    "            sys.stderr.write(line.decode(sys.stderr.encoding))"
   ]
  },
  {
   "cell_type": "code",
   "execution_count": 6,
   "metadata": {},
   "outputs": [
    {
     "name": "stdout",
     "output_type": "stream",
     "text": [
      "5.9.1\n"
     ]
    }
   ],
   "source": [
    "%snakemake --version"
   ]
  },
  {
   "cell_type": "code",
   "execution_count": 2,
   "metadata": {},
   "outputs": [
    {
     "name": "stdout",
     "output_type": "stream",
     "text": [
      "5.9.1\n"
     ]
    }
   ],
   "source": [
    "!snakemake --version"
   ]
  },
  {
   "cell_type": "code",
   "execution_count": 3,
   "metadata": {},
   "outputs": [
    {
     "name": "stdout",
     "output_type": "stream",
     "text": [
      "/mnt/user/drive/Shared with groups/Slow Wave Analysis Pipeline/pipeline/pipeline\n"
     ]
    }
   ],
   "source": [
    "print(os.getcwd())"
   ]
  },
  {
   "cell_type": "code",
   "execution_count": 7,
   "metadata": {},
   "outputs": [
    {
     "name": "stdout",
     "output_type": "stream",
     "text": [
      "\u001b[33mBuilding DAG of jobs...\u001b[0m\n",
      "\u001b[33mExecuting subworkflow stage01.\u001b[0m\n",
      "\u001b[33mBuilding DAG of jobs...\u001b[0m\n",
      "\u001b[33mUsing shell: /usr/bin/bash\u001b[0m\n",
      "\u001b[33mProvided cores: 1 (use --cores to define parallelism)\u001b[0m\n",
      "\u001b[33mRules claiming more threads will be scaled down.\u001b[0m\n",
      "\u001b[33mJob counts:\n",
      "\tcount\tjobs\n",
      "\t1\tall\n",
      "\t1\u001b[0m\n",
      "\u001b[32m\u001b[0m\n",
      "\u001b[32m[Fri Jan 10 16:14:04 2020]\u001b[0m\n",
      "\u001b[32mrule all:\n",
      "    input: /mnt/user/drive/Shared with groups/Slow Wave Analysis Pipeline/results/IDIBAPS/stage01_data_curation/output_IDIBAPS_161101_rec07_RH.nix\n",
      "    output: /mnt/user/drive/Shared with groups/Slow Wave Analysis Pipeline/results/IDIBAPS/stage01_data_curation/IDIBAPS_data.nix\n",
      "    jobid: 0\u001b[0m\n",
      "\u001b[32m\u001b[0m\n",
      "\u001b[32m[Fri Jan 10 16:14:11 2020]\u001b[0m\n",
      "\u001b[32mFinished job 0.\u001b[0m\n",
      "\u001b[32m1 of 1 steps (100%) done\u001b[0m\n",
      "\u001b[33mComplete log: /mnt/user/drive/Shared with groups/Slow Wave Analysis Pipeline/pipeline/pipeline/stage01_data_curation/.snakemake/log/2020-01-10T161401.766641.snakemake.log\u001b[0m\n",
      "\u001b[33mExecuting subworkflow stage02.\u001b[0m\n",
      "\u001b[33mBuilding DAG of jobs...\u001b[0m\n",
      "\u001b[33mUsing shell: /usr/bin/bash\u001b[0m\n",
      "\u001b[33mProvided cores: 1 (use --cores to define parallelism)\u001b[0m\n",
      "\u001b[33mRules claiming more threads will be scaled down.\u001b[0m\n",
      "\u001b[33mJob counts:\n",
      "\tcount\tjobs\n",
      "\t1\tall\n",
      "\t1\tbackground_substraction\n",
      "\t1\tclear\n",
      "\t1\tnormalization\n",
      "\t1\troi_selection\n",
      "\t5\u001b[0m\n",
      "\u001b[32m\u001b[0m\n",
      "\u001b[32m[Fri Jan 10 16:14:11 2020]\u001b[0m\n",
      "\u001b[32mrule clear:\n",
      "    output: /mnt/user/drive/Shared with groups/Slow Wave Analysis Pipeline/results/IDIBAPS/stage02_preprocessing/clear.done\n",
      "    jobid: 2\u001b[0m\n",
      "\u001b[32m\u001b[0m\n",
      "\u001b[32m[Fri Jan 10 16:14:11 2020]\u001b[0m\n",
      "\u001b[32mFinished job 2.\u001b[0m\n",
      "\u001b[32m1 of 5 steps (20%) done\u001b[0m\n",
      "\u001b[32m\u001b[0m\n",
      "\u001b[32m[Fri Jan 10 16:14:11 2020]\u001b[0m\n",
      "\u001b[32mrule roi_selection:\n",
      "    input: /mnt/user/drive/Shared with groups/Slow Wave Analysis Pipeline/results/IDIBAPS/stage02_preprocessing/clear.done, /mnt/user/drive/Shared with groups/Slow Wave Analysis Pipeline/results/IDIBAPS/stage01_data_curation/IDIBAPS_data.nix, scripts/roi_selection.py\n",
      "    output: /mnt/user/drive/Shared with groups/Slow Wave Analysis Pipeline/results/IDIBAPS/stage02_preprocessing/roi_selection/roi_selection.nix, /mnt/user/drive/Shared with groups/Slow Wave Analysis Pipeline/results/IDIBAPS/stage02_preprocessing/roi_selection/roi_selection.png\n",
      "    jobid: 4\n",
      "    wildcards: rule_name=roi_selection\u001b[0m\n",
      "\u001b[32m\u001b[0m\n",
      "/usr/bin/bash: line 1:  1884 Killed                  python scripts/roi_selection.py --data \"/mnt/user/drive/Shared with groups/Slow Wave Analysis Pipeline/results/IDIBAPS/stage01_data_curation/IDIBAPS_data.nix\" --output \"/mnt/user/drive/Shared with groups/Slow Wave Analysis Pipeline/results/IDIBAPS/stage02_preprocessing/roi_selection/roi_selection.nix\" --image_output \"/mnt/user/drive/Shared with groups/Slow Wave Analysis Pipeline/results/IDIBAPS/stage02_preprocessing/roi_selection/roi_selection.png\" --intensity_threshold 0.5\n",
      "\u001b[32m[Fri Jan 10 16:14:22 2020]\u001b[0m\n",
      "\u001b[31mError in rule roi_selection:\u001b[0m\n",
      "\u001b[31m    jobid: 4\u001b[0m\n",
      "\u001b[31m    output: /mnt/user/drive/Shared with groups/Slow Wave Analysis Pipeline/results/IDIBAPS/stage02_preprocessing/roi_selection/roi_selection.nix, /mnt/user/drive/Shared with groups/Slow Wave Analysis Pipeline/results/IDIBAPS/stage02_preprocessing/roi_selection/roi_selection.png\u001b[0m\n",
      "\u001b[31m    shell:\n",
      "        \n",
      "        python scripts/roi_selection.py --data \"/mnt/user/drive/Shared with groups/Slow Wave Analysis Pipeline/results/IDIBAPS/stage01_data_curation/IDIBAPS_data.nix\"                               --output \"/mnt/user/drive/Shared with groups/Slow Wave Analysis Pipeline/results/IDIBAPS/stage02_preprocessing/roi_selection/roi_selection.nix\"                               --image_output \"/mnt/user/drive/Shared with groups/Slow Wave Analysis Pipeline/results/IDIBAPS/stage02_preprocessing/roi_selection/roi_selection.png\"                               --intensity_threshold 0.5\n",
      "        \n",
      "        (one of the commands exited with non-zero exit code; note that snakemake uses bash strict mode!)\u001b[0m\n",
      "\u001b[31m\u001b[0m\n",
      "\u001b[33mShutting down, this might take some time.\u001b[0m\n",
      "\u001b[31mExiting because a job execution failed. Look above for error message\u001b[0m\n",
      "\u001b[33mComplete log: /mnt/user/drive/Shared with groups/Slow Wave Analysis Pipeline/pipeline/pipeline/stage02_preprocessing/.snakemake/log/2020-01-10T161411.428946.snakemake.log\u001b[0m\n"
     ]
    }
   ],
   "source": [
    "!snakemake"
   ]
  },
  {
   "cell_type": "code",
   "execution_count": 8,
   "metadata": {},
   "outputs": [
    {
     "name": "stdout",
     "output_type": "stream",
     "text": [
      "ln: failed to create symbolic link ‘/mnt/user/drive/Shared with groups/Slow Wave Analysis Pipeline/results/IDIBAPS/stage01_data_curation/IDIBAPS_data.nix’: No such file or directory\n"
     ]
    }
   ],
   "source": [
    "!ln -s \"/mnt/user/drive/Shared with groups/Slow Wave Analysis Pipeline/results/IDIBAPS/stage01_data_curation/output_IDIBAPS_161101_rec07_RH.nix\" \"/mnt/user/drive/Shared with groups/Slow Wave Analysis Pipeline/results/IDIBAPS/stage01_data_curation/IDIBAPS_data.nix\""
   ]
  },
  {
   "cell_type": "code",
   "execution_count": 7,
   "metadata": {},
   "outputs": [
    {
     "name": "stdout",
     "output_type": "stream",
     "text": [
      "/mnt/user/drive/Shared with groups/Slow Wave Analysis Pipeline/pipeline/pipeline\n",
      "/mnt/user/drive/Shared with groups/Slow Wave Analysis Pipeline/results/IDIBAPS/stage01_data_curation\n",
      "output_IDIBAPS_161101_rec07_RH.nix  trace_IDIBAPS_161101_rec07_RH.png\n"
     ]
    }
   ],
   "source": [
    "print(os.getcwd())\n",
    "os.chdir('/mnt/user/drive/Shared with groups/Slow Wave Analysis Pipeline/results/IDIBAPS/stage01_data_curation/')\n",
    "print(os.getcwd())\n",
    "!ls\n",
    "os.chdir('/mnt/user/drive/Shared with groups/Slow Wave Analysis Pipeline/pipeline/pipeline')"
   ]
  },
  {
   "cell_type": "code",
   "execution_count": 14,
   "metadata": {},
   "outputs": [
    {
     "name": "stdout",
     "output_type": "stream",
     "text": [
      "Usage: ln [OPTION]... [-T] TARGET LINK_NAME   (1st form)\n",
      "  or:  ln [OPTION]... TARGET                  (2nd form)\n",
      "  or:  ln [OPTION]... TARGET... DIRECTORY     (3rd form)\n",
      "  or:  ln [OPTION]... -t DIRECTORY TARGET...  (4th form)\n",
      "In the 1st form, create a link to TARGET with the name LINK_NAME.\n",
      "In the 2nd form, create a link to TARGET in the current directory.\n",
      "In the 3rd and 4th forms, create links to each TARGET in DIRECTORY.\n",
      "Create hard links by default, symbolic links with --symbolic.\n",
      "By default, each destination (name of new link) should not already exist.\n",
      "When creating hard links, each TARGET must exist.  Symbolic links\n",
      "can hold arbitrary text; if later resolved, a relative link is\n",
      "interpreted in relation to its parent directory.\n",
      "\n",
      "Mandatory arguments to long options are mandatory for short options too.\n",
      "      --backup[=CONTROL]      make a backup of each existing destination file\n",
      "  -b                          like --backup but does not accept an argument\n",
      "  -d, -F, --directory         allow the superuser to attempt to hard link\n",
      "                                directories (note: will probably fail due to\n",
      "                                system restrictions, even for the superuser)\n",
      "  -f, --force                 remove existing destination files\n",
      "  -i, --interactive           prompt whether to remove destinations\n",
      "  -L, --logical               dereference TARGETs that are symbolic links\n",
      "  -n, --no-dereference        treat LINK_NAME as a normal file if\n",
      "                                it is a symbolic link to a directory\n",
      "  -P, --physical              make hard links directly to symbolic links\n",
      "  -r, --relative              create symbolic links relative to link location\n",
      "  -s, --symbolic              make symbolic links instead of hard links\n",
      "  -S, --suffix=SUFFIX         override the usual backup suffix\n",
      "  -t, --target-directory=DIRECTORY  specify the DIRECTORY in which to create\n",
      "                                the links\n",
      "  -T, --no-target-directory   treat LINK_NAME as a normal file always\n",
      "  -v, --verbose               print name of each linked file\n",
      "      --help     display this help and exit\n",
      "      --version  output version information and exit\n",
      "\n",
      "The backup suffix is '~', unless set with --suffix or SIMPLE_BACKUP_SUFFIX.\n",
      "The version control method may be selected via the --backup option or through\n",
      "the VERSION_CONTROL environment variable.  Here are the values:\n",
      "\n",
      "  none, off       never make backups (even if --backup is given)\n",
      "  numbered, t     make numbered backups\n",
      "  existing, nil   numbered if numbered backups exist, simple otherwise\n",
      "  simple, never   always make simple backups\n",
      "\n",
      "Using -s ignores -L and -P.  Otherwise, the last option specified controls\n",
      "behavior when a TARGET is a symbolic link, defaulting to -P.\n",
      "\n",
      "GNU coreutils online help: <http://www.gnu.org/software/coreutils/>\n",
      "For complete documentation, run: info coreutils 'ln invocation'\n"
     ]
    }
   ],
   "source": [
    "!ln --help"
   ]
  },
  {
   "cell_type": "code",
   "execution_count": 31,
   "metadata": {},
   "outputs": [
    {
     "data": {
      "text/plain": [
       "'/mnt/user/drive/My Libraries'"
      ]
     },
     "execution_count": 31,
     "metadata": {},
     "output_type": "execute_result"
    }
   ],
   "source": [
    "os.chdir(\"/mnt/user/drive/My Libraries/\")\n",
    "os.getcwd()"
   ]
  },
  {
   "cell_type": "code",
   "execution_count": 32,
   "metadata": {},
   "outputs": [
    {
     "name": "stdout",
     "output_type": "stream",
     "text": [
      "/usr/bin/sh: a.txt: Permission denied\n",
      "ln: failed to create symbolic link ‘c.txt’: No such file or directory\n"
     ]
    }
   ],
   "source": [
    "!echo a > a.txt\n",
    "!ln -s a.txt c.txt"
   ]
  },
  {
   "cell_type": "code",
   "execution_count": 15,
   "metadata": {},
   "outputs": [],
   "source": [
    "!rm -rf c.txt"
   ]
  },
  {
   "cell_type": "code",
   "execution_count": 19,
   "metadata": {},
   "outputs": [],
   "source": [
    "!rm c.txt"
   ]
  },
  {
   "cell_type": "code",
   "execution_count": 35,
   "metadata": {},
   "outputs": [],
   "source": [
    "os.chdir(\"/mnt/user/\")"
   ]
  },
  {
   "cell_type": "code",
   "execution_count": null,
   "metadata": {},
   "outputs": [],
   "source": []
  }
 ],
 "metadata": {
  "kernelspec": {
   "display_name": "Python 3",
   "language": "python",
   "name": "python3"
  },
  "language_info": {
   "codemirror_mode": {
    "name": "ipython",
    "version": 3
   },
   "file_extension": ".py",
   "mimetype": "text/x-python",
   "name": "python",
   "nbconvert_exporter": "python",
   "pygments_lexer": "ipython3",
   "version": "3.6.3"
  }
 },
 "nbformat": 4,
 "nbformat_minor": 4
}
