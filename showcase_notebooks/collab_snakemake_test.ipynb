{
 "cells": [
  {
   "cell_type": "code",
   "execution_count": 1,
   "metadata": {},
   "outputs": [
    {
     "name": "stdout",
     "output_type": "stream",
     "text": [
      "/mnt/user/drive/My Libraries/wavescalephant/pipeline\n"
     ]
    }
   ],
   "source": [
    "import os\n",
    "import sys\n",
    "os.chdir('/mnt/user/drive/My Libraries/wavescalephant/pipeline/')\n",
    "sys.path.append('./')\n",
    "print(os.getcwd())"
   ]
  },
  {
   "cell_type": "code",
   "execution_count": 2,
   "metadata": {},
   "outputs": [],
   "source": [
    "!pip install -r requirements.txt"
   ]
  },
  {
   "cell_type": "code",
   "execution_count": 5,
   "metadata": {},
   "outputs": [
    {
     "name": "stdout",
     "output_type": "stream",
     "text": [
      "Name: Shapely\n",
      "Version: 1.6.4.post2\n",
      "Summary: Geometric objects, predicates, and operations\n",
      "Home-page: https://github.com/Toblerity/Shapely\n",
      "Author: Sean Gillies\n",
      "Author-email: sean.gillies@gmail.com\n",
      "License: BSD\n",
      "Location: /opt/app-root/lib/python3.6/site-packages\n",
      "Requires: \n",
      "Required-by: \n"
     ]
    }
   ],
   "source": [
    "!pip show shapely"
   ]
  },
  {
   "cell_type": "code",
   "execution_count": 3,
   "metadata": {},
   "outputs": [
    {
     "name": "stdout",
     "output_type": "stream",
     "text": [
      "Previous Content:\n",
      " output_path = '/mnt/user/drive/My Libraries/wave_analysis_pipeline/LENS_collab/' \n",
      "\n",
      " New Content:\n",
      " output_path = '/mnt/user/drive/My Libraries/wave_analysis_pipeline/LENS_collab/'\n"
     ]
    }
   ],
   "source": [
    "def update_output_path(path):\n",
    "    with open('settings.py', 'r') as f:\n",
    "        prev_content = f.read()\n",
    "    with open('settings.py', 'w') as f:\n",
    "        f.write(\"output_path = '{}'\".format(path))\n",
    "    with open('settings.py', 'r') as f:\n",
    "        new_content = f.read()\n",
    "    print(\"Previous Content:\\n\", prev_content,\n",
    "          \"\\n\\n\",\n",
    "          \"New Content:\\n\", new_content)\n",
    "    return None\n",
    "    \n",
    "update_output_path('/mnt/user/drive/My Libraries/wave_analysis_pipeline/LENS_collab/')"
   ]
  },
  {
   "cell_type": "code",
   "execution_count": 2,
   "metadata": {},
   "outputs": [],
   "source": [
    "from IPython.core.magic import register_line_magic\n",
    "from subprocess import Popen, PIPE\n",
    "\n",
    "@register_line_magic\n",
    "def snakemake(args):\n",
    "    args = ['snakemake'] + args.split()\n",
    "    \n",
    "    with Popen(args, stdout=PIPE, stderr=PIPE) as process:\n",
    "        # Read stdout character by character, as it includes real-time progress updates\n",
    "        for c in iter(lambda: process.stdout.read(1), b''):\n",
    "            sys.stdout.write(c.decode(sys.stdout.encoding))\n",
    "        # Read stderr line by line, because real-time does not matter\n",
    "        for line in iter(process.stderr.readline, b''):\n",
    "            sys.stderr.write(line.decode(sys.stderr.encoding))"
   ]
  },
  {
   "cell_type": "code",
   "execution_count": 5,
   "metadata": {},
   "outputs": [
    {
     "name": "stdout",
     "output_type": "stream",
     "text": [
      "5.8.2\n"
     ]
    }
   ],
   "source": [
    "%snakemake --version"
   ]
  },
  {
   "cell_type": "code",
   "execution_count": 6,
   "metadata": {},
   "outputs": [
    {
     "name": "stdout",
     "output_type": "stream",
     "text": [
      "5.8.2\n"
     ]
    }
   ],
   "source": [
    "!snakemake --version"
   ]
  },
  {
   "cell_type": "code",
   "execution_count": 15,
   "metadata": {},
   "outputs": [],
   "source": [
    "os.chdir('./stage03_trigger_detection')"
   ]
  },
  {
   "cell_type": "code",
   "execution_count": 17,
   "metadata": {},
   "outputs": [
    {
     "name": "stdout",
     "output_type": "stream",
     "text": [
      "\u001b[33mBuilding DAG of jobs...\u001b[0m\n",
      "\u001b[33mUsing shell: /usr/bin/bash\u001b[0m\n",
      "\u001b[33mProvided cores: 1 (use --cores to define parallelism)\u001b[0m\n",
      "\u001b[33mRules claiming more threads will be scaled down.\u001b[0m\n",
      "\u001b[33mJob counts:\n",
      "\tcount\tjobs\n",
      "\t1\tall\n",
      "\t1\thilbert_phase\n",
      "\t2\u001b[0m\n",
      "\u001b[32m\u001b[0m\n",
      "\u001b[32m[Wed Dec 18 14:15:51 2019]\u001b[0m\n",
      "\u001b[32mrule hilbert_phase:\n",
      "    input: /mnt/user/drive/My Libraries/wave_analysis_pipeline/LENS_collab/stage02_preprocessing/preprocessed_data.nix, scripts/hilbert_phase.py\n",
      "    output: /mnt/user/drive/My Libraries/wave_analysis_pipeline/LENS_collab/stage03_trigger_detection/hilbert_phase/transitions.nix\n",
      "    jobid: 1\u001b[0m\n",
      "\u001b[32m\u001b[0m\n",
      "Traceback (most recent call last):\n",
      "  File \"scripts/hilbert_phase.py\", line 89, in <module>\n",
      "    io.write(block)\n",
      "  File \"/opt/app-root/lib/python3.6/site-packages/neo/io/baseio.py\", line 140, in write\n",
      "    self.write_block(bl, **kargs)\n",
      "  File \"/opt/app-root/lib/python3.6/site-packages/neo/io/nixio.py\", line 594, in write_block\n",
      "    self._write_segment(seg, nixblock)\n",
      "  File \"/opt/app-root/lib/python3.6/site-packages/neo/io/nixio.py\", line 695, in _write_segment\n",
      "    self._write_analogsignal(asig, nixblock, nixgroup)\n",
      "  File \"/opt/app-root/lib/python3.6/site-packages/neo/io/nixio.py\", line 771, in _write_analogsignal\n",
      "    p = self._write_property(metadata, k, v)\n",
      "  File \"/opt/app-root/lib/python3.6/site-packages/neo/io/nixio.py\", line 1199, in _write_property\n",
      "    section.create_property(name, values)\n",
      "  File \"/opt/app-root/lib/python3.6/site-packages/nixio/section.py\", line 135, in create_property\n",
      "    raise exceptions.DuplicateName(\"create_property\")\n",
      "nixio.exceptions.exceptions.DuplicateName: Duplicate name - names have to be unique for a given entity type & parent. (create_property)\n",
      "\u001b[32m[Wed Dec 18 14:37:17 2019]\u001b[0m\n",
      "\u001b[31mError in rule hilbert_phase:\u001b[0m\n",
      "\u001b[31m    jobid: 1\u001b[0m\n",
      "\u001b[31m    output: /mnt/user/drive/My Libraries/wave_analysis_pipeline/LENS_collab/stage03_trigger_detection/hilbert_phase/transitions.nix\u001b[0m\n",
      "\u001b[31m    shell:\n",
      "        \n",
      "        python scripts/hilbert_phase.py --data \"/mnt/user/drive/My Libraries/wave_analysis_pipeline/LENS_collab/stage02_preprocessing/preprocessed_data.nix\"                               --output \"/mnt/user/drive/My Libraries/wave_analysis_pipeline/LENS_collab/stage03_trigger_detection/hilbert_phase/transitions.nix\"                               --transition_phase -1.570796\n",
      "        \n",
      "        (one of the commands exited with non-zero exit code; note that snakemake uses bash strict mode!)\u001b[0m\n",
      "\u001b[31m\u001b[0m\n",
      "\u001b[33mRemoving output files of failed job hilbert_phase since they might be corrupted:\n",
      "/mnt/user/drive/My Libraries/wave_analysis_pipeline/LENS_collab/stage03_trigger_detection/hilbert_phase/transitions.nix\u001b[0m\n",
      "\u001b[33mShutting down, this might take some time.\u001b[0m\n",
      "\u001b[31mExiting because a job execution failed. Look above for error message\u001b[0m\n",
      "\u001b[33mComplete log: /mnt/user/drive/My Libraries/wavescalephant/pipeline/stage03_trigger_detection/.snakemake/log/2019-12-18T141551.671612.snakemake.log\u001b[0m\n"
     ]
    }
   ],
   "source": [
    "!snakemake"
   ]
  },
  {
   "cell_type": "code",
   "execution_count": null,
   "metadata": {},
   "outputs": [],
   "source": [
    "os.chdir('../stage04_wavefront_detection')"
   ]
  },
  {
   "cell_type": "code",
   "execution_count": 3,
   "metadata": {},
   "outputs": [
    {
     "ename": "NameError",
     "evalue": "name 'sys' is not defined",
     "output_type": "error",
     "traceback": [
      "\u001b[0;31m---------------------------------------------------------------------------\u001b[0m",
      "\u001b[0;31mNameError\u001b[0m                                 Traceback (most recent call last)",
      "\u001b[0;32m<ipython-input-3-659c56aa2e42>\u001b[0m in \u001b[0;36m<module>\u001b[0;34m\u001b[0m\n\u001b[0;32m----> 1\u001b[0;31m \u001b[0mget_ipython\u001b[0m\u001b[0;34m(\u001b[0m\u001b[0;34m)\u001b[0m\u001b[0;34m.\u001b[0m\u001b[0mrun_line_magic\u001b[0m\u001b[0;34m(\u001b[0m\u001b[0;34m'snakemake'\u001b[0m\u001b[0;34m,\u001b[0m \u001b[0;34m''\u001b[0m\u001b[0;34m)\u001b[0m\u001b[0;34m\u001b[0m\u001b[0m\n\u001b[0m",
      "\u001b[0;32m/opt/app-root/lib/python3.6/site-packages/IPython/core/interactiveshell.py\u001b[0m in \u001b[0;36mrun_line_magic\u001b[0;34m(self, magic_name, line, _stack_depth)\u001b[0m\n\u001b[1;32m   2312\u001b[0m                 \u001b[0mkwargs\u001b[0m\u001b[0;34m[\u001b[0m\u001b[0;34m'local_ns'\u001b[0m\u001b[0;34m]\u001b[0m \u001b[0;34m=\u001b[0m \u001b[0msys\u001b[0m\u001b[0;34m.\u001b[0m\u001b[0m_getframe\u001b[0m\u001b[0;34m(\u001b[0m\u001b[0mstack_depth\u001b[0m\u001b[0;34m)\u001b[0m\u001b[0;34m.\u001b[0m\u001b[0mf_locals\u001b[0m\u001b[0;34m\u001b[0m\u001b[0m\n\u001b[1;32m   2313\u001b[0m             \u001b[0;32mwith\u001b[0m \u001b[0mself\u001b[0m\u001b[0;34m.\u001b[0m\u001b[0mbuiltin_trap\u001b[0m\u001b[0;34m:\u001b[0m\u001b[0;34m\u001b[0m\u001b[0m\n\u001b[0;32m-> 2314\u001b[0;31m                 \u001b[0mresult\u001b[0m \u001b[0;34m=\u001b[0m \u001b[0mfn\u001b[0m\u001b[0;34m(\u001b[0m\u001b[0;34m*\u001b[0m\u001b[0margs\u001b[0m\u001b[0;34m,\u001b[0m \u001b[0;34m**\u001b[0m\u001b[0mkwargs\u001b[0m\u001b[0;34m)\u001b[0m\u001b[0;34m\u001b[0m\u001b[0m\n\u001b[0m\u001b[1;32m   2315\u001b[0m             \u001b[0;32mreturn\u001b[0m \u001b[0mresult\u001b[0m\u001b[0;34m\u001b[0m\u001b[0m\n\u001b[1;32m   2316\u001b[0m \u001b[0;34m\u001b[0m\u001b[0m\n",
      "\u001b[0;32m<ipython-input-2-ede5f8faf574>\u001b[0m in \u001b[0;36msnakemake\u001b[0;34m(args)\u001b[0m\n\u001b[1;32m      9\u001b[0m         \u001b[0;31m# Read stdout character by character, as it includes real-time progress updates\u001b[0m\u001b[0;34m\u001b[0m\u001b[0;34m\u001b[0m\u001b[0m\n\u001b[1;32m     10\u001b[0m         \u001b[0;32mfor\u001b[0m \u001b[0mc\u001b[0m \u001b[0;32min\u001b[0m \u001b[0miter\u001b[0m\u001b[0;34m(\u001b[0m\u001b[0;32mlambda\u001b[0m\u001b[0;34m:\u001b[0m \u001b[0mprocess\u001b[0m\u001b[0;34m.\u001b[0m\u001b[0mstdout\u001b[0m\u001b[0;34m.\u001b[0m\u001b[0mread\u001b[0m\u001b[0;34m(\u001b[0m\u001b[0;36m1\u001b[0m\u001b[0;34m)\u001b[0m\u001b[0;34m,\u001b[0m \u001b[0;34mb''\u001b[0m\u001b[0;34m)\u001b[0m\u001b[0;34m:\u001b[0m\u001b[0;34m\u001b[0m\u001b[0m\n\u001b[0;32m---> 11\u001b[0;31m             \u001b[0msys\u001b[0m\u001b[0;34m.\u001b[0m\u001b[0mstdout\u001b[0m\u001b[0;34m.\u001b[0m\u001b[0mwrite\u001b[0m\u001b[0;34m(\u001b[0m\u001b[0mc\u001b[0m\u001b[0;34m.\u001b[0m\u001b[0mdecode\u001b[0m\u001b[0;34m(\u001b[0m\u001b[0msys\u001b[0m\u001b[0;34m.\u001b[0m\u001b[0mstdout\u001b[0m\u001b[0;34m.\u001b[0m\u001b[0mencoding\u001b[0m\u001b[0;34m)\u001b[0m\u001b[0;34m)\u001b[0m\u001b[0;34m\u001b[0m\u001b[0m\n\u001b[0m\u001b[1;32m     12\u001b[0m         \u001b[0;31m# Read stderr line by line, because real-time does not matter\u001b[0m\u001b[0;34m\u001b[0m\u001b[0;34m\u001b[0m\u001b[0m\n\u001b[1;32m     13\u001b[0m         \u001b[0;32mfor\u001b[0m \u001b[0mline\u001b[0m \u001b[0;32min\u001b[0m \u001b[0miter\u001b[0m\u001b[0;34m(\u001b[0m\u001b[0mprocess\u001b[0m\u001b[0;34m.\u001b[0m\u001b[0mstderr\u001b[0m\u001b[0;34m.\u001b[0m\u001b[0mreadline\u001b[0m\u001b[0;34m,\u001b[0m \u001b[0;34mb''\u001b[0m\u001b[0;34m)\u001b[0m\u001b[0;34m:\u001b[0m\u001b[0;34m\u001b[0m\u001b[0m\n",
      "\u001b[0;31mNameError\u001b[0m: name 'sys' is not defined"
     ]
    }
   ],
   "source": [
    "%snakemake"
   ]
  },
  {
   "cell_type": "code",
   "execution_count": 19,
   "metadata": {},
   "outputs": [
    {
     "name": "stdout",
     "output_type": "stream",
     "text": [
      "/usr/bin/sh: conda: command not found\n"
     ]
    }
   ],
   "source": []
  }
 ],
 "metadata": {
  "kernelspec": {
   "display_name": "Python 3",
   "language": "python",
   "name": "python3"
  },
  "language_info": {
   "codemirror_mode": {
    "name": "ipython",
    "version": 3
   },
   "file_extension": ".py",
   "mimetype": "text/x-python",
   "name": "python",
   "nbconvert_exporter": "python",
   "pygments_lexer": "ipython3",
   "version": "3.6.3"
  }
 },
 "nbformat": 4,
 "nbformat_minor": 4
}
